{
  "cells": [
    {
      "attachments": {},
      "cell_type": "markdown",
      "metadata": {
        "id": "6afX5qSmiTiu"
      },
      "source": [
        "## Imports"
      ]
    },
    {
      "cell_type": "code",
      "execution_count": null,
      "metadata": {
        "id": "yppTMGIBiTiu"
      },
      "outputs": [],
      "source": [
        "import numpy as np\n",
        "import pandas as pd\n",
        "import tensorflow as tf\n",
        "\n",
        "\n",
        "from utils.data_utils import (\n",
        "    Mode,\n",
        ")\n",
        "\n",
        "# Setting seed so that it can be deterministic in initialization\n",
        "tf.keras.utils.set_random_seed(11)\n",
        "tf.config.experimental.enable_op_determinism()"
      ]
    },
    {
      "attachments": {},
      "cell_type": "markdown",
      "metadata": {
        "id": "PMlEqjUMiTix"
      },
      "source": [
        "## Constants"
      ]
    },
    {
      "cell_type": "code",
      "execution_count": null,
      "metadata": {
        "id": "PHoQwlkUoxlk"
      },
      "outputs": [],
      "source": [
        "N_TRAIN_AGENT = 30000\n",
        "N_VAL_AGENT = 3000\n",
        "NUM_TRIAL = 500\n",
        "\n",
        "### Change me\n",
        "classification_type = \"HRL\"  # @param ['2PRL-t', 'HRL', 'PRL'] {allow-input: true}\n",
        "###\n",
        "\n",
        "if classification_type == \"HRL\":\n",
        "    cognitive_model_to_data_file = {\n",
        "        Mode.HRL2: (\"t\", \"v\", 'test'),\n",
        "        Mode.HRL2_Bayes: (\"t\", \"v\", 'test'),\n",
        "        Mode.HRL2_StickyBayes: (\"t\", \"v\", 'test'),\n",
        "    }\n",
        "elif classification_type == \"PRL\":\n",
        "    cognitive_model_to_data_file = {\n",
        "        Mode.PRL2: (\"t\", \"v\", 'test'),\n",
        "        Mode.PRL4: (\"t\", \"v\", 'test'),\n",
        "        Mode.Bayes: (\"t\", \"v\", 'test'),\n",
        "        Mode.StickyBayes: (\"t\", \"v\", 'test'),\n",
        "    }\n",
        "else:\n",
        "    cognitive_model_to_data_file = {\n",
        "        Mode.PRL2: (\"t\", \"v\", 'test'),\n",
        "        Mode.PRL2_intractable: (\"t\", \"v\", 'test'),\n",
        "    }\n",
        "\n",
        "OUPUT_DIM = len(cognitive_model_to_data_file)"
      ]
    },
    {
      "attachments": {},
      "cell_type": "markdown",
      "metadata": {},
      "source": [
        "## Read data"
      ]
    },
    {
      "cell_type": "code",
      "execution_count": null,
      "metadata": {},
      "outputs": [],
      "source": [
        "cognitive_model_to_train_data = {}\n",
        "cognitive_model_to_val_data = {}\n",
        "for mode, (train_filepath, val_filepath, _) in cognitive_model_to_data_file.items():\n",
        "    cognitive_model_to_train_data[mode] = pd.read_csv(train_filepath)\n",
        "    cognitive_model_to_val_data[mode] = pd.read_csv(val_filepath)"
      ]
    },
    {
      "attachments": {},
      "cell_type": "markdown",
      "metadata": {
        "id": "8QHwk0oL7D0r"
      },
      "source": [
        "## Process Data"
      ]
    },
    {
      "cell_type": "code",
      "execution_count": null,
      "metadata": {
        "id": "iPblbeQKQTMd"
      },
      "outputs": [],
      "source": [
        "from process_data import process_data\n",
        "\n",
        "target_trial = 500\n",
        "train_features, normalized_train_labels = process_data(\n",
        "    cognitive_model_to_raw_data, N_TRAIN_AGENT, NUM_TRIAL, target_trial\n",
        ")\n",
        "val_features, normalized_val_labels = process_data(\n",
        "    cognitive_model_to_val_data, N_VAL_AGENT, NUM_TRIAL, target_trial\n",
        ")"
      ]
    },
    {
      "cell_type": "code",
      "execution_count": null,
      "metadata": {
        "id": "S7X9IRxlmymJ"
      },
      "outputs": [],
      "source": [
        "from sklearn.utils import shuffle\n",
        "\n",
        "train_features, normalized_train_labels = shuffle(\n",
        "    train_features.numpy(), normalized_train_labels, random_state=0\n",
        ")\n",
        "val_features, normalized_val_labels = shuffle(\n",
        "    val_features.numpy(), normalized_val_labels, random_state=0\n",
        ")\n",
        "print(train_features.shape, normalized_train_labels.shape)"
      ]
    },
    {
      "attachments": {},
      "cell_type": "markdown",
      "metadata": {
        "id": "FCZ7rda6nwcM"
      },
      "source": [
        "## Model Training"
      ]
    },
    {
      "attachments": {},
      "cell_type": "markdown",
      "metadata": {},
      "source": [
        "### Bayesian Search"
      ]
    },
    {
      "cell_type": "code",
      "execution_count": null,
      "metadata": {
        "id": "7r6BAyfOaYt-"
      },
      "outputs": [],
      "source": [
        "from utils.hypetune import bayesian_search\n",
        "from model import get_gru_model\n",
        "\n",
        "# (TODO) move to a config file\n",
        "param_grid = {\n",
        "    \"input_x\": train_features.shape[1],\n",
        "    \"input_y\": train_features.shape[2],\n",
        "    \"output_dim\": output_dim,\n",
        "    \"units\": 64 + hp.randint(\"units\", 128),\n",
        "    \"learning_rate\": 3e-4,\n",
        "    \"dropout\": hp.uniform(\"dropout\", 0.15, 0.25),\n",
        "    \"dropout1\": hp.uniform(\"dropout1\", 0.01, 0.1),\n",
        "    \"dropout2\": hp.uniform(\"dropout2\", 0.01, 0.05),\n",
        "    \"epochs\": 25,\n",
        "    \"batch_size\": 256,\n",
        "}\n",
        "\n",
        "best_model, best_params = bayesian_search(\n",
        "    get_gru_model,\n",
        "    param_grid,\n",
        "    train_features,\n",
        "    normalized_train_labels,\n",
        "    val_features,\n",
        "    normalized_val_labels,\n",
        ")\n",
        "\n",
        "print(f\"Found best parameters {best_params}\")"
      ]
    },
    {
      "attachments": {},
      "cell_type": "markdown",
      "metadata": {},
      "source": [
        "### Training model"
      ]
    },
    {
      "cell_type": "code",
      "execution_count": null,
      "metadata": {
        "id": "oxAW7DggjOC0"
      },
      "outputs": [],
      "source": [
        "from keras.callbacks import EarlyStopping\n",
        "\n",
        "callbacks = [EarlyStopping(monitor=\"val_loss\", patience=10, restore_best_weights=True)]\n",
        "\n",
        "history = best_model.fit(\n",
        "    train_features,\n",
        "    normalized_train_labels,\n",
        "    epochs=200,\n",
        "    batch_size=best_params['batch_size'],\n",
        "    callbacks=callbacks,\n",
        "    validation_data=(val_features, normalized_val_labels),\n",
        "    verbose=2,\n",
        ")"
      ]
    },
    {
      "attachments": {},
      "cell_type": "markdown",
      "metadata": {
        "id": "KPwwDw-API-y"
      },
      "source": [
        "## Model Evaluation"
      ]
    },
    {
      "cell_type": "code",
      "execution_count": null,
      "metadata": {
        "id": "avxMUn_NchI-"
      },
      "outputs": [],
      "source": [
        "cognitive_model_to_test_data = {}\n",
        "for mode, (_, _, test_filepath) in cognitive_model_to_data_file.items():\n",
        "    cognitive_model_to_test_data[mode] = pd.read_csv(test_filepath)\n",
        "    \n",
        "all_test_features, all_test_labels = process_data(\n",
        "    cognitive_model_to_test_data, N_VAL_AGENT, NUM_TRIAL, all_trials\n",
        ")\n",
        "print(all_test_features.shape, all_test_labels.shape)"
      ]
    },
    {
      "cell_type": "code",
      "execution_count": null,
      "metadata": {
        "id": "v_wM4ltUTd5T"
      },
      "outputs": [],
      "source": [
        "accr = best_model.evaluate(all_test_features, all_test_labels)\n",
        "print(\"Test set\\n  Loss: {:0.3f}\\n  Accuracy: {:0.3f}\".format(accr[0], accr[1]))"
      ]
    },
    {
      "attachments": {},
      "cell_type": "markdown",
      "metadata": {
        "id": "tyJv1S0pxEN-"
      },
      "source": [
        "### Classification Report"
      ]
    },
    {
      "cell_type": "code",
      "execution_count": null,
      "metadata": {},
      "outputs": [],
      "source": [
        "from sklearn.metrics import classification_report\n",
        "\n",
        "prediction = best_model.predict(all_test_features)\n",
        "y_true, y_pred = np.argmax(all_test_labels, axis=1), np.argmax(\n",
        "    prediction, axis=1\n",
        ")\n",
        "\n",
        "classification_report(\n",
        "    y_true, y_pred, target_names=cognitive_model_to_data_file,keys(), output_dict=True\n",
        ")"
      ]
    }
  ],
  "metadata": {
    "colab": {
      "collapsed_sections": [
        "tyJv1S0pxEN-",
        "76fOBwWjP1N7"
      ],
      "private_outputs": true,
      "provenance": [],
      "toc_visible": true
    },
    "kernelspec": {
      "display_name": "Python 3",
      "name": "python3"
    }
  },
  "nbformat": 4,
  "nbformat_minor": 0
}
